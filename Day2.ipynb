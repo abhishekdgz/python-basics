{
 "cells": [
  {
   "cell_type": "code",
   "execution_count": 138,
   "id": "4840d80d",
   "metadata": {},
   "outputs": [
    {
     "data": {
      "text/plain": [
       "\"\\nGiven an array of integers, return a new array \\nsuch that each element at index i of the new array is the product of all the numbers in the original array \\nexcept the one at i.\\n\\nFor example, if our input was [1, 2, 3, 4, 5], the expected output would be [120, 60, 40, 30, 24]. \\nIf our input was [3, 2, 1], the expected output would be [2, 3, 6].\\n\\nFollow-up: what if you can't use division?\\n\""
      ]
     },
     "execution_count": 138,
     "metadata": {},
     "output_type": "execute_result"
    }
   ],
   "source": [
    "'''\n",
    "Given an array of integers, return a new array \n",
    "such that each element at index i of the new array is the product of all the numbers in the original array \n",
    "except the one at i.\n",
    "\n",
    "For example, if our input was [1, 2, 3, 4, 5], the expected output would be [120, 60, 40, 30, 24]. \n",
    "If our input was [3, 2, 1], the expected output would be [2, 3, 6].\n",
    "\n",
    "Follow-up: what if you can't use division?\n",
    "'''"
   ]
  },
  {
   "cell_type": "code",
   "execution_count": 133,
   "id": "7dfbce83",
   "metadata": {},
   "outputs": [],
   "source": [
    "'''Imports'''\n",
    "\n",
    "import array"
   ]
  },
  {
   "cell_type": "code",
   "execution_count": 134,
   "id": "f036e0dc",
   "metadata": {},
   "outputs": [
    {
     "name": "stdout",
     "output_type": "stream",
     "text": [
      "The new created array is :  1 2 3 4 5 "
     ]
    }
   ],
   "source": [
    "'''Initialization'''\n",
    "\n",
    "my_array = array.array('i', [1,2,3,4,5])\n",
    "\n",
    "print (\"The new created array is : \",end=\" \")\n",
    "for i in range (0, 5):\n",
    "    print (my_array[i], end=\" \")"
   ]
  },
  {
   "cell_type": "code",
   "execution_count": 135,
   "id": "20168627",
   "metadata": {},
   "outputs": [
    {
     "name": "stdout",
     "output_type": "stream",
     "text": [
      "5\n"
     ]
    }
   ],
   "source": [
    "'''Find array length'''\n",
    "\n",
    "array_len = len(my_array)\n",
    "print(array_len)"
   ]
  },
  {
   "cell_type": "code",
   "execution_count": 136,
   "id": "67a59530",
   "metadata": {},
   "outputs": [],
   "source": [
    "'''Function'''\n",
    "\n",
    "def product(num_array, z):\n",
    "    prod = num_array[0]\n",
    "    for i in num_array:\n",
    "        prod = (prod*num_array[i])\n",
    "    return prod\n",
    "    \n",
    "def result(num_array, z, p):\n",
    "    for i in range (0, z):\n",
    "        num_array[i]= int(p/num_array[i])\n",
    "    return\n",
    "\n",
    "def without_product(num_array, length)\n",
    "    left_prod\n",
    "    \n",
    "    for in range (1, z)\n",
    "        left_prod[i] = num_array[i-1]*left_prod[i-1]\n",
    "        "
   ]
  },
  {
   "cell_type": "code",
   "execution_count": 137,
   "id": "ad8ff918",
   "metadata": {},
   "outputs": [
    {
     "name": "stdout",
     "output_type": "stream",
     "text": [
      "120\n",
      "5\n",
      "120\n",
      "array('i', [120, 60, 40, 30, 24])\n"
     ]
    }
   ],
   "source": [
    "'''Main'''\n",
    "\n",
    "pro = product(my_array, array_len)\n",
    "\n",
    "print(pro)\n",
    "print(array_len)\n",
    "\n",
    "result(my_array, array_len, pro)\n",
    "\n",
    "print(pro)\n",
    "print(my_array)"
   ]
  },
  {
   "cell_type": "code",
   "execution_count": null,
   "id": "0bfd5961",
   "metadata": {},
   "outputs": [],
   "source": []
  }
 ],
 "metadata": {
  "kernelspec": {
   "display_name": "Python 3 (ipykernel)",
   "language": "python",
   "name": "python3"
  },
  "language_info": {
   "codemirror_mode": {
    "name": "ipython",
    "version": 3
   },
   "file_extension": ".py",
   "mimetype": "text/x-python",
   "name": "python",
   "nbconvert_exporter": "python",
   "pygments_lexer": "ipython3",
   "version": "3.9.12"
  }
 },
 "nbformat": 4,
 "nbformat_minor": 5
}
