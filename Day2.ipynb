{
 "cells": [
  {
   "cell_type": "code",
   "execution_count": 22,
   "id": "4840d80d",
   "metadata": {},
   "outputs": [
    {
     "data": {
      "text/plain": [
       "\"\\nGiven an array of integers, return a new array \\nsuch that each element at index i of the new array is the product of all the numbers in the original array \\nexcept the one at i.\\n\\nFor example, if our input was [1, 2, 3, 4, 5], the expected output would be [120, 60, 40, 30, 24]. \\nIf our input was [3, 2, 1], the expected output would be [2, 3, 6].\\n\\nFollow-up: what if you can't use division?\\n\""
      ]
     },
     "execution_count": 22,
     "metadata": {},
     "output_type": "execute_result"
    }
   ],
   "source": [
    "'''\n",
    "Given an array of integers, return a new array \n",
    "such that each element at index i of the new array is the product of all the numbers in the original array \n",
    "except the one at i.\n",
    "\n",
    "For example, if our input was [1, 2, 3, 4, 5], the expected output would be [120, 60, 40, 30, 24]. \n",
    "If our input was [3, 2, 1], the expected output would be [2, 3, 6].\n",
    "\n",
    "Follow-up: what if you can't use division?\n",
    "'''"
   ]
  },
  {
   "cell_type": "code",
   "execution_count": 23,
   "id": "7dfbce83",
   "metadata": {},
   "outputs": [],
   "source": [
    "'''Imports'''\n",
    "\n",
    "import array"
   ]
  },
  {
   "cell_type": "code",
   "execution_count": 24,
   "id": "f036e0dc",
   "metadata": {},
   "outputs": [
    {
     "name": "stdout",
     "output_type": "stream",
     "text": [
      "The new created array is :  1 2 3 4 5 "
     ]
    }
   ],
   "source": [
    "'''Initialization'''\n",
    "\n",
    "my_array = array.array('i', [1,2,3,4,5])\n",
    "\n",
    "print (\"The new created array is : \",end=\" \")\n",
    "for i in range (0, 5):\n",
    "    print (my_array[i], end=\" \")"
   ]
  },
  {
   "cell_type": "code",
   "execution_count": 25,
   "id": "20168627",
   "metadata": {},
   "outputs": [
    {
     "name": "stdout",
     "output_type": "stream",
     "text": [
      "5\n"
     ]
    }
   ],
   "source": [
    "'''Find array length'''\n",
    "\n",
    "array_len = len(my_array)\n",
    "print(array_len)"
   ]
  },
  {
   "cell_type": "code",
   "execution_count": 53,
   "id": "67a59530",
   "metadata": {},
   "outputs": [],
   "source": [
    "'''Function'''\n",
    "\n",
    "def product(num_array, z):\n",
    "    prod = num_array[0]\n",
    "    for i in range(z):\n",
    "        prod = (prod*num_array[i])\n",
    "    return prod\n",
    "    \n",
    "def result(num_array, z, p):\n",
    "    output = [1]*z\n",
    "    for i in range (0, z):\n",
    "        output[i]= int(p/num_array[i])\n",
    "    return output\n",
    "\n",
    "def result_without_product(num_array, length):\n",
    "    left_prod = [1]*length\n",
    "    right_prod = [1]*length\n",
    "    output = [1]*length\n",
    "    \n",
    "    for i in range (1, length):\n",
    "        left_prod[i] = num_array[i-1]*left_prod[i-1]\n",
    "    \n",
    "    for i in range (length-2, -1, -1):\n",
    "        right_prod[i] = num_array[i+1]*right_prod[i+1]\n",
    "\n",
    "    \n",
    "    for i in range (length):\n",
    "        output[i]=left_prod[i]*right_prod[i]\n",
    "    \n",
    "    print(num_array)\n",
    "    for i in range(length):\n",
    "        print(\"index: \", i, \"left product: \", left_prod[i], \"right product: \", right_prod[i], \"output: \", output[i])\n",
    "\n",
    "    \n",
    "    return output\n",
    "        "
   ]
  },
  {
   "cell_type": "code",
   "execution_count": 54,
   "id": "ad8ff918",
   "metadata": {},
   "outputs": [
    {
     "name": "stdout",
     "output_type": "stream",
     "text": [
      "with product\n",
      "product:  120\n",
      "array length:  5\n",
      "output v1: [120, 60, 40, 30, 24]\n",
      "without product\n",
      "array('i', [1, 2, 3, 4, 5])\n",
      "index:  0 left product:  1 right product:  120 output:  120\n",
      "index:  1 left product:  1 right product:  60 output:  60\n",
      "index:  2 left product:  2 right product:  20 output:  40\n",
      "index:  3 left product:  6 right product:  5 output:  30\n",
      "index:  4 left product:  24 right product:  1 output:  24\n",
      "output_v2: [120, 60, 40, 30, 24]\n"
     ]
    }
   ],
   "source": [
    "'''Main'''\n",
    "\n",
    "print(\"with product\")\n",
    "pro = product(my_array, array_len)\n",
    "\n",
    "print(\"product: \", pro)\n",
    "print(\"array length: \", array_len)\n",
    "\n",
    "output = result(my_array, array_len, pro)\n",
    "print(\"output v1:\", output)\n",
    "\n",
    "print(\"without product\")\n",
    "output = result_without_product(my_array, array_len)\n",
    "print(\"output_v2:\", output)\n"
   ]
  },
  {
   "cell_type": "code",
   "execution_count": null,
   "id": "0bfd5961",
   "metadata": {},
   "outputs": [],
   "source": []
  },
  {
   "cell_type": "code",
   "execution_count": null,
   "id": "8246f7d1",
   "metadata": {},
   "outputs": [],
   "source": []
  }
 ],
 "metadata": {
  "kernelspec": {
   "display_name": "Python 3 (ipykernel)",
   "language": "python",
   "name": "python3"
  },
  "language_info": {
   "codemirror_mode": {
    "name": "ipython",
    "version": 3
   },
   "file_extension": ".py",
   "mimetype": "text/x-python",
   "name": "python",
   "nbconvert_exporter": "python",
   "pygments_lexer": "ipython3",
   "version": "3.9.12"
  }
 },
 "nbformat": 4,
 "nbformat_minor": 5
}
