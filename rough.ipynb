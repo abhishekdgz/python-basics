{
 "cells": [
  {
   "cell_type": "code",
   "execution_count": 2,
   "id": "976c8453",
   "metadata": {},
   "outputs": [],
   "source": [
    "import array"
   ]
  },
  {
   "cell_type": "code",
   "execution_count": 8,
   "id": "f3b0109d",
   "metadata": {},
   "outputs": [],
   "source": [
    "my_array = array.array ('i',[1,2,3,4,5])\n",
    "z=len(my_array)"
   ]
  },
  {
   "cell_type": "code",
   "execution_count": 45,
   "id": "ef547d72",
   "metadata": {},
   "outputs": [],
   "source": [
    "def print_arr(the_array):\n",
    "    length=len(the_array)\n",
    "    for i in range (0,4,1):\n",
    "        print(\"index: \", i, \", value: \", the_array[i])\n",
    "\n",
    "def rev_print_arr(the_array):\n",
    "    length=len(the_array)\n",
    "    for i in range (4,1,-1):\n",
    "        print(\"index: \", i, \", value: \", the_array[i])"
   ]
  },
  {
   "cell_type": "code",
   "execution_count": 46,
   "id": "6a959ae3",
   "metadata": {},
   "outputs": [
    {
     "name": "stdout",
     "output_type": "stream",
     "text": [
      "The length of the array is:  5\n",
      "The array contents are: \n",
      "index:  4 , value:  5\n",
      "index:  3 , value:  4\n",
      "index:  2 , value:  3\n"
     ]
    }
   ],
   "source": [
    "print(\"The length of the array is: \", end=\" \")\n",
    "print(z)\n",
    "print (\"The array contents are: \")\n",
    "rev_print_arr(my_array)"
   ]
  },
  {
   "cell_type": "code",
   "execution_count": null,
   "id": "aaf8d2e2",
   "metadata": {},
   "outputs": [],
   "source": []
  }
 ],
 "metadata": {
  "kernelspec": {
   "display_name": "Python 3 (ipykernel)",
   "language": "python",
   "name": "python3"
  },
  "language_info": {
   "codemirror_mode": {
    "name": "ipython",
    "version": 3
   },
   "file_extension": ".py",
   "mimetype": "text/x-python",
   "name": "python",
   "nbconvert_exporter": "python",
   "pygments_lexer": "ipython3",
   "version": "3.9.12"
  }
 },
 "nbformat": 4,
 "nbformat_minor": 5
}
