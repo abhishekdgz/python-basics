{
 "cells": [
  {
   "cell_type": "code",
   "execution_count": 32,
   "id": "f4e84915",
   "metadata": {},
   "outputs": [
    {
     "data": {
      "text/plain": [
       "'\\nISSUES FACED\\n\\n1. \\n\\nThe error is caused by the StopIteration exception being raised when next(vals) is called on an exhausted iterator.\\nThis means that the iterator vals has no more values to return.\\n\\nThe issue may be that the vals iterator is being exhausted prematurely. This could happen if there are extra spaces or commas in the serialization string, which cause the split method to generate empty strings. The iter function then creates an iterator over these empty strings, and calling next on the iterator will raise StopIteration.\\n\\n\\n\\n\\n'"
      ]
     },
     "execution_count": 32,
     "metadata": {},
     "output_type": "execute_result"
    }
   ],
   "source": [
    "'''\n",
    "Google.\n",
    "\n",
    "Given the root to a binary tree, implement serialize(root), which serializes the tree into a string, \n",
    "and deserialize(s), which deserializes the string back into the tree.\n",
    "\n",
    "For example, given the following Node class\n",
    "\n",
    "class Node:\n",
    "    def __init__(self, val, left=None, right=None):\n",
    "        self.val = val\n",
    "        self.left = left\n",
    "        self.right = right\n",
    "The following test should pass:\n",
    "\n",
    "node = Node('root', Node('left', Node('left.left')), Node('right'))\n",
    "assert deserialize(serialize(node)).left.left.val == 'left.left'\n",
    "\n",
    "'''\n",
    "\n",
    "\n",
    "'''\n",
    "ISSUES FACED\n",
    "\n",
    "1. \n",
    "\n",
    "root, left, left.left, None, None, None, right, None, None\n",
    "Traceback (most recent call last):\n",
    "  File \"<string>\", line 33, in <module>\n",
    "  File \"<string>\", line 28, in deserialize\n",
    "  File \"<string>\", line 23, in helper\n",
    "  File \"<string>\", line 23, in helper\n",
    "File \"<string>\", line 23, in helper\n",
    "  [Previous line repeated 6 more times]\n",
    "  File \"<string>\", line 19, in helper\n",
    "StopIteration\n",
    "\n",
    "\n",
    "\n",
    "The error is caused by the StopIteration exception being raised when next(vals) is called on an exhausted iterator.\n",
    "This means that the iterator vals has no more values to return.\n",
    "\n",
    "The issue may be that the vals iterator is being exhausted prematurely. \n",
    "This could happen if there are extra spaces or commas in the serialization string, which cause the split method \n",
    "to generate empty strings. The iter function then creates an iterator over these empty strings, and calling next on \n",
    "the iterator will raise StopIteration.\n",
    "\n",
    "To fix this, you can modify the serialize function to remove any extra spaces around the commas in the output string:\n",
    "\n",
    "def serialize(root):\n",
    "    if not root:\n",
    "        return 'None'\n",
    "    return f'{root.val},{serialize(root.left)},{serialize(root.right)}'.strip()\n",
    "\n",
    "This will ensure that the serialization string has the expected format, and the vals iterator will not be \n",
    "prematurely exhausted.\n",
    "\n",
    "\n",
    "'''\n",
    "\n",
    "'''\n",
    "CONCEPTS\n",
    "\n",
    "1. Assertion Error\n",
    "https://www.geeksforgeeks.org/python-assertion-error/\n",
    "\n",
    "'''"
   ]
  },
  {
   "cell_type": "code",
   "execution_count": 33,
   "id": "2380a44b",
   "metadata": {},
   "outputs": [],
   "source": [
    "# Node class def\n",
    "\n",
    "class Node:\n",
    "    def __init__(self, val, left=None, right=None):\n",
    "        self.val = val\n",
    "        self.left = left\n",
    "        self.right = right"
   ]
  },
  {
   "cell_type": "code",
   "execution_count": 36,
   "id": "41c707b5",
   "metadata": {},
   "outputs": [],
   "source": [
    "# Functions definition\n",
    "\n",
    "def serialize(root):\n",
    "    \n",
    "    if not root:\n",
    "        return 'None'\n",
    "    return f'{root.val},{serialize(root.left)},{serialize(root.right)}'\n",
    "\n",
    "def deserialize(data):\n",
    "    \n",
    "    def helper(vals):\n",
    "        val=next(vals)\n",
    "        if val == 'None':\n",
    "            return None\n",
    "        node=Node(val)\n",
    "        node.left=helper(vals)\n",
    "        node.right=helper(vals)\n",
    "        return node\n",
    "    \n",
    "    vals=iter(data.split(','))\n",
    "    return helper(vals)\n",
    "    \n"
   ]
  },
  {
   "cell_type": "code",
   "execution_count": 38,
   "id": "a4a7c9a1",
   "metadata": {},
   "outputs": [
    {
     "name": "stdout",
     "output_type": "stream",
     "text": [
      "root,left,left.left,None,None,None,right,None,None\n",
      "left.left\n"
     ]
    }
   ],
   "source": [
    "#Test cases\n",
    "\n",
    "node=Node('root', Node('left', Node('left.left')), Node('right'))\n",
    "s_result=serialize(node)\n",
    "print(s_result)\n",
    "d_result=deserialize(s_result)\n",
    "# print(deserialize(serialize(node)).left.left.val)\n",
    "print(d_result.left.left.val)\n",
    "\n",
    "\n",
    "node = Node('root', Node('left', Node('left.left')), Node('right'))\n",
    "assert deserialize(serialize(node)).left.left.val == 'left.left'\n"
   ]
  },
  {
   "cell_type": "code",
   "execution_count": null,
   "id": "74e7f84b",
   "metadata": {},
   "outputs": [],
   "source": []
  }
 ],
 "metadata": {
  "kernelspec": {
   "display_name": "Python 3 (ipykernel)",
   "language": "python",
   "name": "python3"
  },
  "language_info": {
   "codemirror_mode": {
    "name": "ipython",
    "version": 3
   },
   "file_extension": ".py",
   "mimetype": "text/x-python",
   "name": "python",
   "nbconvert_exporter": "python",
   "pygments_lexer": "ipython3",
   "version": "3.9.12"
  }
 },
 "nbformat": 4,
 "nbformat_minor": 5
}
