{
 "cells": [
  {
   "cell_type": "code",
   "execution_count": 33,
   "id": "f4936ce8",
   "metadata": {},
   "outputs": [
    {
     "data": {
      "text/plain": [
       "'\\nPROBLEM STATEMNT\\n\\nGiven a list of numbers and a number k, return whether any two numbers from the list add up to k.\\nFor example, given [10, 15, 3, 7] and k of 17, return true since 10 + 7 is 17.\\n\\nBonus: Can you do this in one pass?\\n'"
      ]
     },
     "execution_count": 33,
     "metadata": {},
     "output_type": "execute_result"
    }
   ],
   "source": [
    "'''\n",
    "PROBLEM STATEMNT\n",
    "\n",
    "Given a list of numbers and a number k, return whether any two numbers from the list add up to k.\n",
    "For example, given [10, 15, 3, 7] and k of 17, return true since 10 + 7 is 17.\n",
    "\n",
    "Bonus: Can you do this in one pass?\n",
    "'''"
   ]
  },
  {
   "cell_type": "code",
   "execution_count": 34,
   "id": "1b3ee5ab",
   "metadata": {},
   "outputs": [],
   "source": [
    "import numpy as np"
   ]
  },
  {
   "cell_type": "code",
   "execution_count": 35,
   "id": "98bd5468",
   "metadata": {},
   "outputs": [],
   "source": [
    "my_array = np.array([1,2,3,4,5,8])\n",
    "k = 10"
   ]
  },
  {
   "cell_type": "code",
   "execution_count": 36,
   "id": "25cf89a3",
   "metadata": {},
   "outputs": [
    {
     "name": "stdout",
     "output_type": "stream",
     "text": [
      "[1 2 3 4 5 8]\n"
     ]
    }
   ],
   "source": [
    "print(my_array)"
   ]
  },
  {
   "cell_type": "code",
   "execution_count": 48,
   "id": "f82e7b68",
   "metadata": {},
   "outputs": [],
   "source": [
    "def onepass(num_array, obj):\n",
    "    seen = {}\n",
    "    for num in num_array:\n",
    "        if obj-num in seen:\n",
    "            return True\n",
    "        seen[num] = True\n",
    "    return False"
   ]
  },
  {
   "cell_type": "code",
   "execution_count": 49,
   "id": "0ccc19d7",
   "metadata": {},
   "outputs": [
    {
     "name": "stdout",
     "output_type": "stream",
     "text": [
      "True\n"
     ]
    }
   ],
   "source": [
    "print(onepass(my_array, k))"
   ]
  },
  {
   "cell_type": "code",
   "execution_count": null,
   "id": "9481731b",
   "metadata": {},
   "outputs": [],
   "source": []
  }
 ],
 "metadata": {
  "kernelspec": {
   "display_name": "Python 3 (ipykernel)",
   "language": "python",
   "name": "python3"
  },
  "language_info": {
   "codemirror_mode": {
    "name": "ipython",
    "version": 3
   },
   "file_extension": ".py",
   "mimetype": "text/x-python",
   "name": "python",
   "nbconvert_exporter": "python",
   "pygments_lexer": "ipython3",
   "version": "3.9.12"
  }
 },
 "nbformat": 4,
 "nbformat_minor": 5
}
